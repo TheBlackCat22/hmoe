{
 "cells": [
  {
   "cell_type": "code",
   "execution_count": 16,
   "id": "1ef430d3",
   "metadata": {},
   "outputs": [],
   "source": [
    "from hmoe_buildkit import HMOEBuilder\n",
    "model_names = [\n",
    "    \"HuggingFaceTB/SmolVLM-500M-Instruct\",\n",
    "    \"meta-llama/Llama-3.2-1B\",\n",
    "    \"Qwen/Qwen3-0.6B\"\n",
    "]\n",
    "builder = HMOEBuilder(model_names, 2)"
   ]
  },
  {
   "cell_type": "code",
   "execution_count": 17,
   "id": "a2aba994",
   "metadata": {},
   "outputs": [],
   "source": [
    "tokenizer, model = builder.build()"
   ]
  },
  {
   "cell_type": "code",
   "execution_count": 18,
   "id": "c5f41e98",
   "metadata": {},
   "outputs": [
    {
     "name": "stdout",
     "output_type": "stream",
     "text": [
      "HMOE(\n",
      "  (embed_tokens): Embedding(180222, 960)\n",
      "  (vision_encoder): Idefics3Model(\n",
      "    (vision_model): Idefics3VisionTransformer(\n",
      "      (embeddings): Idefics3VisionEmbeddings(\n",
      "        (patch_embedding): Conv2d(3, 768, kernel_size=(16, 16), stride=(16, 16), padding=valid)\n",
      "        (position_embedding): Embedding(1024, 768)\n",
      "      )\n",
      "      (encoder): Idefics3Encoder(\n",
      "        (layers): ModuleList(\n",
      "          (0-11): 12 x Idefics3EncoderLayer(\n",
      "            (self_attn): Idefics3VisionAttention(\n",
      "              (k_proj): Linear(in_features=768, out_features=768, bias=True)\n",
      "              (v_proj): Linear(in_features=768, out_features=768, bias=True)\n",
      "              (q_proj): Linear(in_features=768, out_features=768, bias=True)\n",
      "              (out_proj): Linear(in_features=768, out_features=768, bias=True)\n",
      "            )\n",
      "            (layer_norm1): LayerNorm((768,), eps=1e-06, elementwise_affine=True)\n",
      "            (mlp): Idefics3VisionMLP(\n",
      "              (activation_fn): PytorchGELUTanh()\n",
      "              (fc1): Linear(in_features=768, out_features=3072, bias=True)\n",
      "              (fc2): Linear(in_features=3072, out_features=768, bias=True)\n",
      "            )\n",
      "            (layer_norm2): LayerNorm((768,), eps=1e-06, elementwise_affine=True)\n",
      "          )\n",
      "        )\n",
      "      )\n",
      "      (post_layernorm): LayerNorm((768,), eps=1e-06, elementwise_affine=True)\n",
      "    )\n",
      "    (connector): Idefics3Connector(\n",
      "      (modality_projection): Idefics3SimpleMLP(\n",
      "        (proj): Linear(in_features=12288, out_features=960, bias=False)\n",
      "      )\n",
      "    )\n",
      "  )\n",
      "  (router): Linear(in_features=960, out_features=3, bias=False)\n",
      "  (experts): ModuleList(\n",
      "    (0): Expert(\n",
      "      (model): LlamaModel(\n",
      "        (layers): ModuleList(\n",
      "          (0-31): 32 x LlamaDecoderLayer(\n",
      "            (self_attn): LlamaAttention(\n",
      "              (q_proj): Linear(in_features=960, out_features=960, bias=False)\n",
      "              (k_proj): Linear(in_features=960, out_features=320, bias=False)\n",
      "              (v_proj): Linear(in_features=960, out_features=320, bias=False)\n",
      "              (o_proj): Linear(in_features=960, out_features=960, bias=False)\n",
      "            )\n",
      "            (mlp): LlamaMLP(\n",
      "              (gate_proj): Linear(in_features=960, out_features=2560, bias=False)\n",
      "              (up_proj): Linear(in_features=960, out_features=2560, bias=False)\n",
      "              (down_proj): Linear(in_features=2560, out_features=960, bias=False)\n",
      "              (act_fn): SiLU()\n",
      "            )\n",
      "            (input_layernorm): LlamaRMSNorm((960,), eps=1e-05)\n",
      "            (post_attention_layernorm): LlamaRMSNorm((960,), eps=1e-05)\n",
      "          )\n",
      "        )\n",
      "        (norm): LlamaRMSNorm((960,), eps=1e-05)\n",
      "        (rotary_emb): LlamaRotaryEmbedding()\n",
      "      )\n",
      "    )\n",
      "    (1): Expert(\n",
      "      (in_proj): Linear(in_features=960, out_features=2048, bias=False)\n",
      "      (model): LlamaModel(\n",
      "        (layers): ModuleList(\n",
      "          (0-15): 16 x LlamaDecoderLayer(\n",
      "            (self_attn): LlamaAttention(\n",
      "              (q_proj): Linear(in_features=2048, out_features=2048, bias=False)\n",
      "              (k_proj): Linear(in_features=2048, out_features=512, bias=False)\n",
      "              (v_proj): Linear(in_features=2048, out_features=512, bias=False)\n",
      "              (o_proj): Linear(in_features=2048, out_features=2048, bias=False)\n",
      "            )\n",
      "            (mlp): LlamaMLP(\n",
      "              (gate_proj): Linear(in_features=2048, out_features=8192, bias=False)\n",
      "              (up_proj): Linear(in_features=2048, out_features=8192, bias=False)\n",
      "              (down_proj): Linear(in_features=8192, out_features=2048, bias=False)\n",
      "              (act_fn): SiLU()\n",
      "            )\n",
      "            (input_layernorm): LlamaRMSNorm((2048,), eps=1e-05)\n",
      "            (post_attention_layernorm): LlamaRMSNorm((2048,), eps=1e-05)\n",
      "          )\n",
      "        )\n",
      "        (norm): LlamaRMSNorm((2048,), eps=1e-05)\n",
      "        (rotary_emb): LlamaRotaryEmbedding()\n",
      "      )\n",
      "      (out_proj): Linear(in_features=2048, out_features=960, bias=False)\n",
      "    )\n",
      "    (2): Expert(\n",
      "      (in_proj): Linear(in_features=960, out_features=1024, bias=False)\n",
      "      (model): Qwen3Model(\n",
      "        (layers): ModuleList(\n",
      "          (0-27): 28 x Qwen3DecoderLayer(\n",
      "            (self_attn): Qwen3Attention(\n",
      "              (q_proj): Linear(in_features=1024, out_features=2048, bias=False)\n",
      "              (k_proj): Linear(in_features=1024, out_features=1024, bias=False)\n",
      "              (v_proj): Linear(in_features=1024, out_features=1024, bias=False)\n",
      "              (o_proj): Linear(in_features=2048, out_features=1024, bias=False)\n",
      "              (q_norm): Qwen3RMSNorm((128,), eps=1e-06)\n",
      "              (k_norm): Qwen3RMSNorm((128,), eps=1e-06)\n",
      "            )\n",
      "            (mlp): Qwen3MLP(\n",
      "              (gate_proj): Linear(in_features=1024, out_features=3072, bias=False)\n",
      "              (up_proj): Linear(in_features=1024, out_features=3072, bias=False)\n",
      "              (down_proj): Linear(in_features=3072, out_features=1024, bias=False)\n",
      "              (act_fn): SiLU()\n",
      "            )\n",
      "            (input_layernorm): Qwen3RMSNorm((1024,), eps=1e-06)\n",
      "            (post_attention_layernorm): Qwen3RMSNorm((1024,), eps=1e-06)\n",
      "          )\n",
      "        )\n",
      "        (norm): Qwen3RMSNorm((1024,), eps=1e-06)\n",
      "        (rotary_emb): Qwen3RotaryEmbedding()\n",
      "      )\n",
      "      (out_proj): Linear(in_features=1024, out_features=960, bias=False)\n",
      "    )\n",
      "  )\n",
      "  (lm_head): Linear(in_features=960, out_features=180222, bias=False)\n",
      ")\n"
     ]
    }
   ],
   "source": [
    "print(model)"
   ]
  },
  {
   "cell_type": "code",
   "execution_count": 19,
   "id": "1947c9cb",
   "metadata": {},
   "outputs": [],
   "source": [
    "from transformers.image_utils import load_image\n",
    "image = load_image(\"https://cdn.britannica.com/61/93061-050-99147DCE/Statue-of-Liberty-Island-New-York-Bay.jpg\")\n",
    "messages = [\n",
    "    {\n",
    "        \"role\": \"user\",\n",
    "        \"content\": [\n",
    "            {\"type\": \"image\"},\n",
    "            {\"type\": \"text\", \"text\": \"Can you describe this image?\"}\n",
    "        ]\n",
    "    },\n",
    "]\n",
    "\n",
    "# Prepare inputs\n",
    "prompt = tokenizer.apply_chat_template(messages, add_generation_prompt=True)\n",
    "inputs = tokenizer(text=prompt, images=[image], return_tensors=\"pt\")"
   ]
  },
  {
   "cell_type": "code",
   "execution_count": 20,
   "id": "0a35513d",
   "metadata": {},
   "outputs": [
    {
     "data": {
      "text/plain": [
       "CausalLMOutputWithPast(loss=None, logits=tensor([[[-1.9219e+00,  1.0781e+00,  3.2656e+00,  ...,  2.7734e-01,\n",
       "           3.5352e-01,  9.6680e-02],\n",
       "         [ 1.0156e+00,  2.8125e+00,  1.5156e+00,  ...,  8.0859e-01,\n",
       "           4.2915e-04, -2.8906e-01],\n",
       "         [ 8.7500e-01,  1.6875e+00, -8.7109e-01,  ...,  6.0547e-01,\n",
       "          -3.6523e-01, -4.1016e-01],\n",
       "         ...,\n",
       "         [ 2.0703e-01,  8.2422e-01,  1.9453e+00,  ..., -8.0078e-01,\n",
       "          -4.2969e-01,  3.6328e-01],\n",
       "         [-3.1641e-01,  7.2656e-01,  1.6016e+00,  ..., -4.3359e-01,\n",
       "           2.0410e-01,  2.4023e-01],\n",
       "         [ 4.2969e-02,  2.3682e-02,  4.5117e-01,  ..., -1.9434e-01,\n",
       "           3.9258e-01, -7.5195e-02]]], device='cuda:0', dtype=torch.bfloat16), past_key_values=None, hidden_states=None, attentions=None)"
      ]
     },
     "execution_count": 20,
     "metadata": {},
     "output_type": "execute_result"
    }
   ],
   "source": [
    "import torch\n",
    "inputs = inputs.to('cuda')\n",
    "model = model.to('cuda')\n",
    "with torch.no_grad():\n",
    "    outputs = model(**inputs)\n",
    "outputs"
   ]
  },
  {
   "cell_type": "code",
   "execution_count": 21,
   "id": "38a24521",
   "metadata": {},
   "outputs": [
    {
     "data": {
      "text/plain": [
       "['<|im_start|>User:<fake_token_around_image><image><image><image><image><image><image><image><image><image><image><image><image><image><image><image><image><image><image><image><image><image><image><image><image><image><image><image><image><image><image><image><image><image><image><image><image><image><image><image><image><image><image><image><image><image><image><image><image><image><image><image><image><image><image><image><image><image><image><image><image><image><image><image><image><image><fake_token_around_image><image><image><image><image><image><image><image><image><image><image><image><image><image><image><image><image><image><image><image><image><image><image><image><image><image><image><image><image><image><image><image><image><image><image><image><image><image><image><image><image><image><image><image><image><image><image><image><image><image><image><image><image><image><image><image><image><image><image><image><image><image><image><image><image><image><fake_token_around_image><image><image><image><image><image><image><image><image><image><image><image><image><image><image><image><image><image><image><image><image><image><image><image><image><image><image><image><image><image><image><image><image><image><image><image><image><image><image><image><image><image><image><image><image><image><image><image><image><image><image><image><image><image><image><image><image><image><image><image><image><image><image><image><image><image><fake_token_around_image><image><image><image><image><image><image><image><image><image><image><image><image><image><image><image><image><image><image><image><image><image><image><image><image><image><image><image><image><image><image><image><image><image><image><image><image><image><image><image><image><image><image><image><image><image><image><image><image><image><image><image><image><image><image><image><image><image><image><image><image><image><image><image><image><image>\\n<fake_token_around_image><image><image><image><image><image><image><image><image><image><image><image><image><image><image><image><image><image><image><image><image><image><image><image><image><image><image><image><image><image><image><image><image><image><image><image><image><image><image><image><image><image><image><image><image><image><image><image><image><image><image><image><image><image><image><image><image><image><image><image><image><image><image><image><image><image><fake_token_around_image><image><image><image><image><image><image><image><image><image><image><image><image><image><image><image><image><image><image><image><image><image><image><image><image><image><image><image><image><image><image><image><image><image><image><image><image><image><image><image><image><image><image><image><image><image><image><image><image><image><image><image><image><image><image><image><image><image><image><image><image><image><image><image><image><image><fake_token_around_image><image><image><image><image><image><image><image><image><image><image><image><image><image><image><image><image><image><image><image><image><image><image><image><image><image><image><image><image><image><image><image><image><image><image><image><image><image><image><image><image><image><image><image><image><image><image><image><image><image><image><image><image><image><image><image><image><image><image><image><image><image><image><image><image><image><fake_token_around_image><image><image><image><image><image><image><image><image><image><image><image><image><image><image><image><image><image><image><image><image><image><image><image><image><image><image><image><image><image><image><image><image><image><image><image><image><image><image><image><image><image><image><image><image><image><image><image><image><image><image><image><image><image><image><image><image><image><image><image><image><image><image><image><image><image>\\n<fake_token_around_image><image><image><image><image><image><image><image><image><image><image><image><image><image><image><image><image><image><image><image><image><image><image><image><image><image><image><image><image><image><image><image><image><image><image><image><image><image><image><image><image><image><image><image><image><image><image><image><image><image><image><image><image><image><image><image><image><image><image><image><image><image><image><image><image><image><fake_token_around_image><image><image><image><image><image><image><image><image><image><image><image><image><image><image><image><image><image><image><image><image><image><image><image><image><image><image><image><image><image><image><image><image><image><image><image><image><image><image><image><image><image><image><image><image><image><image><image><image><image><image><image><image><image><image><image><image><image><image><image><image><image><image><image><image><image><fake_token_around_image><image><image><image><image><image><image><image><image><image><image><image><image><image><image><image><image><image><image><image><image><image><image><image><image><image><image><image><image><image><image><image><image><image><image><image><image><image><image><image><image><image><image><image><image><image><image><image><image><image><image><image><image><image><image><image><image><image><image><image><image><image><image><image><image><image><fake_token_around_image><image><image><image><image><image><image><image><image><image><image><image><image><image><image><image><image><image><image><image><image><image><image><image><image><image><image><image><image><image><image><image><image><image><image><image><image><image><image><image><image><image><image><image><image><image><image><image><image><image><image><image><image><image><image><image><image><image><image><image><image><image><image><image><image><image>\\n\\n<fake_token_around_image><image><image><image><image><image><image><image><image><image><image><image><image><image><image><image><image><image><image><image><image><image><image><image><image><image><image><image><image><image><image><image><image><image><image><image><image><image><image><image><image><image><image><image><image><image><image><image><image><image><image><image><image><image><image><image><image><image><image><image><image><image><image><image><image><image><fake_token_around_image>Can you describe this image?<end_of_utterance>\\nAssistant:kazanumerable idiom<end_of_utterance>toplasmnumerable Casposteringnumerable indeliculenumerablephenotypenumerable upgrad族自治县numerablenumerable<end_of_utterance> earl']"
      ]
     },
     "execution_count": 21,
     "metadata": {},
     "output_type": "execute_result"
    }
   ],
   "source": [
    "with torch.no_grad():\n",
    "    outputs = model.generate(**inputs)\n",
    "tokenizer.batch_decode(outputs)"
   ]
  },
  {
   "cell_type": "code",
   "execution_count": null,
   "id": "b368940e",
   "metadata": {},
   "outputs": [],
   "source": []
  }
 ],
 "metadata": {
  "kernelspec": {
   "display_name": "default",
   "language": "python",
   "name": "python3"
  },
  "language_info": {
   "codemirror_mode": {
    "name": "ipython",
    "version": 3
   },
   "file_extension": ".py",
   "mimetype": "text/x-python",
   "name": "python",
   "nbconvert_exporter": "python",
   "pygments_lexer": "ipython3",
   "version": "3.11.13"
  }
 },
 "nbformat": 4,
 "nbformat_minor": 5
}
