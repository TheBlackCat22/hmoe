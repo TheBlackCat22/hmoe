{
 "cells": [
  {
   "cell_type": "code",
   "execution_count": 1,
   "id": "1ef430d3",
   "metadata": {},
   "outputs": [
    {
     "name": "stdout",
     "output_type": "stream",
     "text": [
      "Loading Tokenizers\n",
      "Detected HuggingFaceTB/SmolVLM-500M-Instruct is a VLM.\n",
      "Loading Models\n"
     ]
    }
   ],
   "source": [
    "from hmoe_buildkit import HMOEBuilder\n",
    "model_names = [\n",
    "    \"HuggingFaceTB/SmolVLM-500M-Instruct\",\n",
    "    \"meta-llama/Llama-3.2-1B\",\n",
    "    \"Qwen/Qwen3-0.6B\"\n",
    "]\n",
    "builder = HMOEBuilder(model_names)"
   ]
  },
  {
   "cell_type": "code",
   "execution_count": 2,
   "id": "a2aba994",
   "metadata": {},
   "outputs": [
    {
     "name": "stdout",
     "output_type": "stream",
     "text": [
      "Merging Tokenizers\n",
      "Preparing HMOE\n",
      "Mixing Embeddings\n"
     ]
    },
    {
     "name": "stderr",
     "output_type": "stream",
     "text": [
      "100%|██████████| 180211/180211 [00:12<00:00, 14214.69it/s]\n"
     ]
    },
    {
     "name": "stdout",
     "output_type": "stream",
     "text": [
      "Mixing LM Head\n"
     ]
    },
    {
     "name": "stderr",
     "output_type": "stream",
     "text": [
      "100%|██████████| 180211/180211 [00:12<00:00, 14280.18it/s]\n"
     ]
    }
   ],
   "source": [
    "hmoe_tokenizer, hmoe_model = builder.build()"
   ]
  },
  {
   "cell_type": "code",
   "execution_count": 3,
   "id": "1947c9cb",
   "metadata": {},
   "outputs": [],
   "source": [
    "from transformers.image_utils import load_image\n",
    "image = load_image(\"https://cdn.britannica.com/61/93061-050-99147DCE/Statue-of-Liberty-Island-New-York-Bay.jpg\")\n",
    "messages = [\n",
    "    {\n",
    "        \"role\": \"user\",\n",
    "        \"content\": [\n",
    "            {\"type\": \"image\"},\n",
    "            {\"type\": \"text\", \"text\": \"Can you describe this image?\"}\n",
    "        ]\n",
    "    },\n",
    "]\n",
    "\n",
    "# Prepare inputs\n",
    "prompt = hmoe_tokenizer.apply_chat_template(messages, add_generation_prompt=True)\n",
    "inputs = hmoe_tokenizer(text=prompt, images=[image], return_tensors=\"pt\")"
   ]
  },
  {
   "cell_type": "code",
   "execution_count": 4,
   "id": "89eb6b35",
   "metadata": {},
   "outputs": [
    {
     "name": "stdout",
     "output_type": "stream",
     "text": [
      "HMOE(\n",
      "  (embed_tokens): Embedding(180211, 960)\n",
      "  (vision_encoder): Idefics3Model(\n",
      "    (vision_model): Idefics3VisionTransformer(\n",
      "      (embeddings): Idefics3VisionEmbeddings(\n",
      "        (patch_embedding): Conv2d(3, 768, kernel_size=(16, 16), stride=(16, 16), padding=valid)\n",
      "        (position_embedding): Embedding(1024, 768)\n",
      "      )\n",
      "      (encoder): Idefics3Encoder(\n",
      "        (layers): ModuleList(\n",
      "          (0-11): 12 x Idefics3EncoderLayer(\n",
      "            (self_attn): Idefics3VisionAttention(\n",
      "              (k_proj): Linear(in_features=768, out_features=768, bias=True)\n",
      "              (v_proj): Linear(in_features=768, out_features=768, bias=True)\n",
      "              (q_proj): Linear(in_features=768, out_features=768, bias=True)\n",
      "              (out_proj): Linear(in_features=768, out_features=768, bias=True)\n",
      "            )\n",
      "            (layer_norm1): LayerNorm((768,), eps=1e-06, elementwise_affine=True)\n",
      "            (mlp): Idefics3VisionMLP(\n",
      "              (activation_fn): PytorchGELUTanh()\n",
      "              (fc1): Linear(in_features=768, out_features=3072, bias=True)\n",
      "              (fc2): Linear(in_features=3072, out_features=768, bias=True)\n",
      "            )\n",
      "            (layer_norm2): LayerNorm((768,), eps=1e-06, elementwise_affine=True)\n",
      "          )\n",
      "        )\n",
      "      )\n",
      "      (post_layernorm): LayerNorm((768,), eps=1e-06, elementwise_affine=True)\n",
      "    )\n",
      "    (connector): Idefics3Connector(\n",
      "      (modality_projection): Idefics3SimpleMLP(\n",
      "        (proj): Linear(in_features=12288, out_features=960, bias=False)\n",
      "      )\n",
      "    )\n",
      "  )\n",
      "  (all_models): ModuleList(\n",
      "    (0): LlamaModel(\n",
      "      (layers): ModuleList(\n",
      "        (0-31): 32 x LlamaDecoderLayer(\n",
      "          (self_attn): LlamaAttention(\n",
      "            (q_proj): Linear(in_features=960, out_features=960, bias=False)\n",
      "            (k_proj): Linear(in_features=960, out_features=320, bias=False)\n",
      "            (v_proj): Linear(in_features=960, out_features=320, bias=False)\n",
      "            (o_proj): Linear(in_features=960, out_features=960, bias=False)\n",
      "          )\n",
      "          (mlp): LlamaMLP(\n",
      "            (gate_proj): Linear(in_features=960, out_features=2560, bias=False)\n",
      "            (up_proj): Linear(in_features=960, out_features=2560, bias=False)\n",
      "            (down_proj): Linear(in_features=2560, out_features=960, bias=False)\n",
      "            (act_fn): SiLU()\n",
      "          )\n",
      "          (input_layernorm): LlamaRMSNorm((960,), eps=1e-05)\n",
      "          (post_attention_layernorm): LlamaRMSNorm((960,), eps=1e-05)\n",
      "        )\n",
      "      )\n",
      "      (norm): LlamaRMSNorm((960,), eps=1e-05)\n",
      "      (rotary_emb): LlamaRotaryEmbedding()\n",
      "    )\n",
      "    (1): LlamaModel(\n",
      "      (layers): ModuleList(\n",
      "        (0-15): 16 x LlamaDecoderLayer(\n",
      "          (self_attn): LlamaAttention(\n",
      "            (q_proj): Linear(in_features=2048, out_features=2048, bias=False)\n",
      "            (k_proj): Linear(in_features=2048, out_features=512, bias=False)\n",
      "            (v_proj): Linear(in_features=2048, out_features=512, bias=False)\n",
      "            (o_proj): Linear(in_features=2048, out_features=2048, bias=False)\n",
      "          )\n",
      "          (mlp): LlamaMLP(\n",
      "            (gate_proj): Linear(in_features=2048, out_features=8192, bias=False)\n",
      "            (up_proj): Linear(in_features=2048, out_features=8192, bias=False)\n",
      "            (down_proj): Linear(in_features=8192, out_features=2048, bias=False)\n",
      "            (act_fn): SiLU()\n",
      "          )\n",
      "          (input_layernorm): LlamaRMSNorm((2048,), eps=1e-05)\n",
      "          (post_attention_layernorm): LlamaRMSNorm((2048,), eps=1e-05)\n",
      "        )\n",
      "      )\n",
      "      (norm): LlamaRMSNorm((2048,), eps=1e-05)\n",
      "      (rotary_emb): LlamaRotaryEmbedding()\n",
      "    )\n",
      "    (2): Qwen3Model(\n",
      "      (layers): ModuleList(\n",
      "        (0-27): 28 x Qwen3DecoderLayer(\n",
      "          (self_attn): Qwen3Attention(\n",
      "            (q_proj): Linear(in_features=1024, out_features=2048, bias=False)\n",
      "            (k_proj): Linear(in_features=1024, out_features=1024, bias=False)\n",
      "            (v_proj): Linear(in_features=1024, out_features=1024, bias=False)\n",
      "            (o_proj): Linear(in_features=2048, out_features=1024, bias=False)\n",
      "            (q_norm): Qwen3RMSNorm((128,), eps=1e-06)\n",
      "            (k_norm): Qwen3RMSNorm((128,), eps=1e-06)\n",
      "          )\n",
      "          (mlp): Qwen3MLP(\n",
      "            (gate_proj): Linear(in_features=1024, out_features=3072, bias=False)\n",
      "            (up_proj): Linear(in_features=1024, out_features=3072, bias=False)\n",
      "            (down_proj): Linear(in_features=3072, out_features=1024, bias=False)\n",
      "            (act_fn): SiLU()\n",
      "          )\n",
      "          (input_layernorm): Qwen3RMSNorm((1024,), eps=1e-06)\n",
      "          (post_attention_layernorm): Qwen3RMSNorm((1024,), eps=1e-06)\n",
      "        )\n",
      "      )\n",
      "      (norm): Qwen3RMSNorm((1024,), eps=1e-06)\n",
      "      (rotary_emb): Qwen3RotaryEmbedding()\n",
      "    )\n",
      "  )\n",
      "  (lm_head): Linear(in_features=960, out_features=180211, bias=False)\n",
      ")\n"
     ]
    }
   ],
   "source": [
    "print(hmoe_model)"
   ]
  },
  {
   "cell_type": "code",
   "execution_count": 5,
   "id": "0a35513d",
   "metadata": {},
   "outputs": [],
   "source": [
    "import torch\n",
    "inputs = inputs.to('cuda')\n",
    "hmoe_model = hmoe_model.to('cuda')\n",
    "with torch.no_grad():\n",
    "    hmoe_model(**inputs)"
   ]
  },
  {
   "cell_type": "code",
   "execution_count": null,
   "id": "4234cb4b",
   "metadata": {},
   "outputs": [],
   "source": []
  }
 ],
 "metadata": {
  "kernelspec": {
   "display_name": "default",
   "language": "python",
   "name": "python3"
  },
  "language_info": {
   "codemirror_mode": {
    "name": "ipython",
    "version": 3
   },
   "file_extension": ".py",
   "mimetype": "text/x-python",
   "name": "python",
   "nbconvert_exporter": "python",
   "pygments_lexer": "ipython3",
   "version": "3.11.13"
  }
 },
 "nbformat": 4,
 "nbformat_minor": 5
}
